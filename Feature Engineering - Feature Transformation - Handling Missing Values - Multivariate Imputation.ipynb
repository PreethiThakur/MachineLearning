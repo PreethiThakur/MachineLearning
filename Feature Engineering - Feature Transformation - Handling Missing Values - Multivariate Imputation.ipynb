{
 "cells": [
  {
   "cell_type": "markdown",
   "id": "80902593",
   "metadata": {},
   "source": [
    "## Multivariate Imputation\n",
    "\n",
    "Multivariate imputation is a technique used in __Handling Missing Values__ in a dataset. In this process the missing value of a feature(column) are imputed with the value based on other features of the dataset. <br>\n",
    "\n",
    "In this article we are going to discuss about scikit learn library algorithm that we use in Multivariate Imputation.\n",
    "\n",
    "    KNN Imputer\n",
    "    Iterative Imputer"
   ]
  },
  {
   "cell_type": "code",
   "execution_count": 121,
   "id": "feeecd45",
   "metadata": {},
   "outputs": [],
   "source": [
    "import pandas as pd\n",
    "import numpy as np\n",
    "\n",
    "from sklearn.model_selection import train_test_split\n",
    "from sklearn.experimental import enable_iterative_imputer\n",
    "from sklearn.impute import SimpleImputer, KNNImputer, IterativeImputer\n",
    "from sklearn.linear_model import LogisticRegression\n",
    "from sklearn.metrics import accuracy_score\n",
    "\n",
    "# import warnings\n",
    "# warnings.simplefilter(\"ignore\")"
   ]
  },
  {
   "cell_type": "code",
   "execution_count": 122,
   "id": "7c8982f2",
   "metadata": {},
   "outputs": [],
   "source": [
    "# read csv to df\n",
    "df = pd.read_csv('./Datasets/train.csv', usecols=['Age', 'Fare', 'Pclass', 'Survived'])"
   ]
  },
  {
   "cell_type": "code",
   "execution_count": 4,
   "id": "c3f0c762",
   "metadata": {},
   "outputs": [
    {
     "data": {
      "text/plain": [
       "Survived     0.00000\n",
       "Pclass       0.00000\n",
       "Age         19.86532\n",
       "Fare         0.00000\n",
       "dtype: float64"
      ]
     },
     "execution_count": 4,
     "metadata": {},
     "output_type": "execute_result"
    }
   ],
   "source": [
    "# nulls count\n",
    "(df.isnull().mean())*100"
   ]
  },
  {
   "cell_type": "code",
   "execution_count": 123,
   "id": "888c494c",
   "metadata": {},
   "outputs": [],
   "source": [
    "# split\n",
    "X = df.drop(columns=['Survived'])\n",
    "y = df['Survived']\n",
    "\n",
    "X_train, X_test, y_train, y_test = train_test_split(X, y, test_size=0.2, random_state=42)"
   ]
  },
  {
   "cell_type": "code",
   "execution_count": 18,
   "id": "dae9fc5d",
   "metadata": {},
   "outputs": [
    {
     "data": {
      "text/html": [
       "<div>\n",
       "<style scoped>\n",
       "    .dataframe tbody tr th:only-of-type {\n",
       "        vertical-align: middle;\n",
       "    }\n",
       "\n",
       "    .dataframe tbody tr th {\n",
       "        vertical-align: top;\n",
       "    }\n",
       "\n",
       "    .dataframe thead th {\n",
       "        text-align: right;\n",
       "    }\n",
       "</style>\n",
       "<table border=\"1\" class=\"dataframe\">\n",
       "  <thead>\n",
       "    <tr style=\"text-align: right;\">\n",
       "      <th></th>\n",
       "      <th>Pclass</th>\n",
       "      <th>Age</th>\n",
       "      <th>Fare</th>\n",
       "    </tr>\n",
       "  </thead>\n",
       "  <tbody>\n",
       "    <tr>\n",
       "      <th>331</th>\n",
       "      <td>1</td>\n",
       "      <td>45.5</td>\n",
       "      <td>28.5000</td>\n",
       "    </tr>\n",
       "    <tr>\n",
       "      <th>733</th>\n",
       "      <td>2</td>\n",
       "      <td>23.0</td>\n",
       "      <td>13.0000</td>\n",
       "    </tr>\n",
       "    <tr>\n",
       "      <th>382</th>\n",
       "      <td>3</td>\n",
       "      <td>32.0</td>\n",
       "      <td>7.9250</td>\n",
       "    </tr>\n",
       "    <tr>\n",
       "      <th>704</th>\n",
       "      <td>3</td>\n",
       "      <td>26.0</td>\n",
       "      <td>7.8542</td>\n",
       "    </tr>\n",
       "    <tr>\n",
       "      <th>813</th>\n",
       "      <td>3</td>\n",
       "      <td>6.0</td>\n",
       "      <td>31.2750</td>\n",
       "    </tr>\n",
       "    <tr>\n",
       "      <th>...</th>\n",
       "      <td>...</td>\n",
       "      <td>...</td>\n",
       "      <td>...</td>\n",
       "    </tr>\n",
       "    <tr>\n",
       "      <th>106</th>\n",
       "      <td>3</td>\n",
       "      <td>21.0</td>\n",
       "      <td>7.6500</td>\n",
       "    </tr>\n",
       "    <tr>\n",
       "      <th>270</th>\n",
       "      <td>1</td>\n",
       "      <td>NaN</td>\n",
       "      <td>31.0000</td>\n",
       "    </tr>\n",
       "    <tr>\n",
       "      <th>860</th>\n",
       "      <td>3</td>\n",
       "      <td>41.0</td>\n",
       "      <td>14.1083</td>\n",
       "    </tr>\n",
       "    <tr>\n",
       "      <th>435</th>\n",
       "      <td>1</td>\n",
       "      <td>14.0</td>\n",
       "      <td>120.0000</td>\n",
       "    </tr>\n",
       "    <tr>\n",
       "      <th>102</th>\n",
       "      <td>1</td>\n",
       "      <td>21.0</td>\n",
       "      <td>77.2875</td>\n",
       "    </tr>\n",
       "  </tbody>\n",
       "</table>\n",
       "<p>712 rows × 3 columns</p>\n",
       "</div>"
      ],
      "text/plain": [
       "     Pclass   Age      Fare\n",
       "331       1  45.5   28.5000\n",
       "733       2  23.0   13.0000\n",
       "382       3  32.0    7.9250\n",
       "704       3  26.0    7.8542\n",
       "813       3   6.0   31.2750\n",
       "..      ...   ...       ...\n",
       "106       3  21.0    7.6500\n",
       "270       1   NaN   31.0000\n",
       "860       3  41.0   14.1083\n",
       "435       1  14.0  120.0000\n",
       "102       1  21.0   77.2875\n",
       "\n",
       "[712 rows x 3 columns]"
      ]
     },
     "execution_count": 18,
     "metadata": {},
     "output_type": "execute_result"
    }
   ],
   "source": [
    "X_train"
   ]
  },
  {
   "cell_type": "markdown",
   "id": "fd30ec77",
   "metadata": {},
   "source": [
    "## KNN Imputer"
   ]
  },
  {
   "cell_type": "code",
   "execution_count": 134,
   "id": "e14180bf",
   "metadata": {},
   "outputs": [
    {
     "data": {
      "text/plain": [
       "0.7430167597765364"
      ]
     },
     "execution_count": 134,
     "metadata": {},
     "output_type": "execute_result"
    }
   ],
   "source": [
    "# knnimputer\n",
    "knn = KNNImputer(n_neighbors=2, weights='uniform') # keep changing these values till you get best accuracy\n",
    "\n",
    "# transforming\n",
    "X_train_trf = knn.fit_transform(X_train)\n",
    "X_test_trf = knn.transform(X_test)\n",
    "\n",
    "# model object\n",
    "lr = LogisticRegression()\n",
    "\n",
    "# fit\n",
    "lr.fit(X_train_trf, y_train)\n",
    "\n",
    "# predict\n",
    "y_pred = lr.predict(X_test_trf)\n",
    "\n",
    "# accuracy\n",
    "accuracy_score(y_test, y_pred)"
   ]
  },
  {
   "cell_type": "markdown",
   "id": "4bd6cf45",
   "metadata": {},
   "source": [
    "## Iterative Imputer"
   ]
  },
  {
   "cell_type": "code",
   "execution_count": 135,
   "id": "bf1d1b21",
   "metadata": {},
   "outputs": [
    {
     "data": {
      "text/plain": [
       "0.7486033519553073"
      ]
     },
     "execution_count": 135,
     "metadata": {},
     "output_type": "execute_result"
    }
   ],
   "source": [
    "# imputer object\n",
    "imp = IterativeImputer(max_iter=10)\n",
    "\n",
    "# transform\n",
    "X_train_imp = imp.fit_transform(X_train)\n",
    "X_test_imp = imp.transform(X_test)\n",
    "\n",
    "# model object\n",
    "lr = LogisticRegression()\n",
    "\n",
    "# model fit\n",
    "lr.fit(X_train_imp, y_train)\n",
    "\n",
    "# predict\n",
    "y_predimp = lr.predict(X_test_imp)\n",
    "\n",
    "# accuracy\n",
    "accuracy_score(y_test, y_predimp)"
   ]
  },
  {
   "cell_type": "markdown",
   "id": "3ceff352",
   "metadata": {},
   "source": [
    "We can observe there is a slight improvement with Iteration imputation method"
   ]
  },
  {
   "cell_type": "markdown",
   "id": "dc8ed5f0",
   "metadata": {},
   "source": [
    "## Summary\n",
    "\n",
    "In this notebook we have learnt how to implement scikit library algorithms in Multivariadling process of Hansling missing values."
   ]
  }
 ],
 "metadata": {
  "kernelspec": {
   "display_name": "Python 3 (ipykernel)",
   "language": "python",
   "name": "python3"
  },
  "language_info": {
   "codemirror_mode": {
    "name": "ipython",
    "version": 3
   },
   "file_extension": ".py",
   "mimetype": "text/x-python",
   "name": "python",
   "nbconvert_exporter": "python",
   "pygments_lexer": "ipython3",
   "version": "3.9.12"
  }
 },
 "nbformat": 4,
 "nbformat_minor": 5
}
