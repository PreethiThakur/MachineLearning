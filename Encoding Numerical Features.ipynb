{
 "cells": [
  {
   "cell_type": "markdown",
   "id": "56a24f7a",
   "metadata": {},
   "source": [
    "## Numerical Encoding\n",
    "\n",
    "While working on datasets it is quite common we come across numerical data that has huge variations. In order to be able to use such data, first we might need to format the values using Encoding process. <br>\n",
    "\n",
    "Numerical Encoding can be done in different ways. Here I'm going to discuss about following encoding techniques and how to implement them on our data. \n",
    "\n",
    "    Discretization (Binning)\n",
    "    Binarization\n",
    "    \n",
    "## Discretization (Binning)\n",
    "Discretization is a process where we transform the continuous values into discrete values by creating intervals. These intervals are also called as bins and hence comes the name Binning. <br>\n",
    "Discretization helps to handle Outliers and improves the spread of the values.\n",
    "\n",
    "### Types of Binning:\n",
    "    Unsupervised Binning\n",
    "    Supervised Binning\n",
    "    Custom Binning\n",
    "    \n",
    "### Unsupervised Binning:\n",
    "    Equal width Binning (Uniform Binning)\n",
    "    Equal frequency Binning\n",
    "    K means Binning\n",
    "    \n",
    "## Binarization\n",
    "Binarization is process whn continuous data is converted into binary format.<br><br><br><br>"
   ]
  },
  {
   "cell_type": "code",
   "execution_count": 250,
   "id": "29066b54",
   "metadata": {},
   "outputs": [],
   "source": [
    "# import libraries\n",
    "\n",
    "import pandas as pd\n",
    "import numpy as np\n",
    "\n",
    "import matplotlib.pyplot as plt\n",
    "import seaborn as sns\n",
    "\n",
    "from sklearn.model_selection import train_test_split\n",
    "\n",
    "from sklearn.preprocessing import KBinsDiscretizer\n",
    "from sklearn.preprocessing import Binarizer\n",
    "\n",
    "from sklearn.compose import ColumnTransformer\n",
    "from sklearn.tree import DecisionTreeClassifier\n",
    "\n",
    "from sklearn.metrics import accuracy_score\n",
    "from sklearn.model_selection import cross_val_score\n",
    "\n",
    "import warnings\n",
    "warnings.simplefilter(action='ignore')"
   ]
  },
  {
   "cell_type": "markdown",
   "id": "74e0b518",
   "metadata": {},
   "source": [
    "## Discretization (Binning)\n",
    "Let's see how Discretization works."
   ]
  },
  {
   "cell_type": "code",
   "execution_count": 147,
   "id": "d3def8df",
   "metadata": {},
   "outputs": [],
   "source": [
    "# dataframe\n",
    "titanic = pd.read_csv('./Datasets/train.csv', usecols=['Age', 'Fare', 'Survived'])"
   ]
  },
  {
   "cell_type": "code",
   "execution_count": 148,
   "id": "580120b7",
   "metadata": {},
   "outputs": [],
   "source": [
    "# dropping missing values\n",
    "titanic.dropna(inplace=True)"
   ]
  },
  {
   "cell_type": "code",
   "execution_count": 149,
   "id": "1fabb3f6",
   "metadata": {},
   "outputs": [
    {
     "data": {
      "text/plain": [
       "(714, 3)"
      ]
     },
     "execution_count": 149,
     "metadata": {},
     "output_type": "execute_result"
    }
   ],
   "source": [
    "# number of cols and rows of df\n",
    "titanic.shape"
   ]
  },
  {
   "cell_type": "code",
   "execution_count": 150,
   "id": "21ff1a50",
   "metadata": {},
   "outputs": [
    {
     "data": {
      "text/html": [
       "<div>\n",
       "<style scoped>\n",
       "    .dataframe tbody tr th:only-of-type {\n",
       "        vertical-align: middle;\n",
       "    }\n",
       "\n",
       "    .dataframe tbody tr th {\n",
       "        vertical-align: top;\n",
       "    }\n",
       "\n",
       "    .dataframe thead th {\n",
       "        text-align: right;\n",
       "    }\n",
       "</style>\n",
       "<table border=\"1\" class=\"dataframe\">\n",
       "  <thead>\n",
       "    <tr style=\"text-align: right;\">\n",
       "      <th></th>\n",
       "      <th>Survived</th>\n",
       "      <th>Age</th>\n",
       "      <th>Fare</th>\n",
       "    </tr>\n",
       "  </thead>\n",
       "  <tbody>\n",
       "    <tr>\n",
       "      <th>0</th>\n",
       "      <td>0</td>\n",
       "      <td>22.0</td>\n",
       "      <td>7.25</td>\n",
       "    </tr>\n",
       "  </tbody>\n",
       "</table>\n",
       "</div>"
      ],
      "text/plain": [
       "   Survived   Age  Fare\n",
       "0         0  22.0  7.25"
      ]
     },
     "execution_count": 150,
     "metadata": {},
     "output_type": "execute_result"
    }
   ],
   "source": [
    "titanic.head(1)"
   ]
  },
  {
   "cell_type": "markdown",
   "id": "2ea9c1f9",
   "metadata": {},
   "source": [
    "## Checking accuracy before transformation"
   ]
  },
  {
   "cell_type": "code",
   "execution_count": 164,
   "id": "1907d32e",
   "metadata": {},
   "outputs": [],
   "source": [
    "# split input output\n",
    "X = titanic.iloc[:,1:3]\n",
    "y = titanic.iloc[:, 0]"
   ]
  },
  {
   "cell_type": "code",
   "execution_count": 152,
   "id": "3b0119d5",
   "metadata": {},
   "outputs": [
    {
     "name": "stdout",
     "output_type": "stream",
     "text": [
      "0.6293706293706294\n",
      "0.6359154929577464\n"
     ]
    }
   ],
   "source": [
    "# split train test\n",
    "X_train, X_test, y_train, y_test = train_test_split(X, y, test_size=0.2, random_state=42)\n",
    "\n",
    "# model object\n",
    "DT = DecisionTreeClassifier()\n",
    "\n",
    "# fit\n",
    "DT.fit(X_train, y_train)\n",
    "\n",
    "# predict\n",
    "y_pred = DT.predict(X_test)\n",
    "\n",
    "# accuracy\n",
    "print(accuracy_score(y_test, y_pred))\n",
    "\n",
    "# cross validation\n",
    "print(np.mean(cross_val_score(DT, X, y, cv=10, scoring='accuracy')))"
   ]
  },
  {
   "cell_type": "markdown",
   "id": "6879bcb8",
   "metadata": {},
   "source": [
    "Accuracy is around 63% before transformation<br><br><br>"
   ]
  },
  {
   "cell_type": "markdown",
   "id": "b7ee537a",
   "metadata": {},
   "source": [
    "## Applying Discretization(Binning)"
   ]
  },
  {
   "cell_type": "code",
   "execution_count": 157,
   "id": "54a12a9a",
   "metadata": {},
   "outputs": [],
   "source": [
    "# binning objects\n",
    "kbin_age = KBinsDiscretizer(n_bins=20, encode='ordinal', strategy='kmeans')\n",
    "kbin_fare = KBinsDiscretizer(n_bins=20, encode='ordinal', strategy='kmeans')\n",
    "\n",
    "# ColumnTransformer objects\n",
    "trf = ColumnTransformer([('age', kbin_age, [0]),\n",
    "                          ('fare', kbin_fare, [1])])\n",
    "\n",
    "# transformation\n",
    "X_train_trf = trf.fit_transform(X_train)\n",
    "X_test_trf = trf.transform(X_test)"
   ]
  },
  {
   "cell_type": "markdown",
   "id": "fae912d3",
   "metadata": {},
   "source": [
    "You can check what is happening inside the algorithms with following code"
   ]
  },
  {
   "cell_type": "code",
   "execution_count": 85,
   "id": "32460903",
   "metadata": {},
   "outputs": [
    {
     "data": {
      "text/plain": [
       "array([array([ 0.42      ,  4.29906863,  8.20833333, 12.58      , 16.85916667,\n",
       "              20.58940763, 24.6236738 , 28.58154878, 32.63418737, 36.83035714,\n",
       "              40.66071429, 44.4297619 , 48.4       , 52.52083333, 56.76325758,\n",
       "              60.40909091, 63.41666667, 67.66666667, 72.25      , 77.        ,\n",
       "              80.        ])                                                   ],\n",
       "      dtype=object)"
      ]
     },
     "execution_count": 85,
     "metadata": {},
     "output_type": "execute_result"
    }
   ],
   "source": [
    "# details of all objects in transformer\n",
    "trf.named_transformers_\n",
    "\n",
    "# details of particilar objects in transformer\n",
    "trf.named_transformers_['age']\n",
    "\n",
    "# number of bins\n",
    "trf.named_transformers_['age'].n_bins_\n",
    "\n",
    "# quantile values (min and max of each interval)\n",
    "trf.named_transformers_['age'].bin_edges_"
   ]
  },
  {
   "cell_type": "markdown",
   "id": "525a18a6",
   "metadata": {},
   "source": [
    "### Analyze data transformation\n",
    "\n",
    "Here I created a dataframe to see how values of Age and Fare columns are transformed into ordinal values (bins) now.<br>\n",
    "From the data frame we can find out two things.\n",
    "1. We can compare how the age and fare values are encoded into bins.\n",
    "2. We can also check in what interval each ordinal value falls into."
   ]
  },
  {
   "cell_type": "code",
   "execution_count": 143,
   "id": "8cb5ae9b",
   "metadata": {},
   "outputs": [
    {
     "data": {
      "text/html": [
       "<div>\n",
       "<style scoped>\n",
       "    .dataframe tbody tr th:only-of-type {\n",
       "        vertical-align: middle;\n",
       "    }\n",
       "\n",
       "    .dataframe tbody tr th {\n",
       "        vertical-align: top;\n",
       "    }\n",
       "\n",
       "    .dataframe thead th {\n",
       "        text-align: right;\n",
       "    }\n",
       "</style>\n",
       "<table border=\"1\" class=\"dataframe\">\n",
       "  <thead>\n",
       "    <tr style=\"text-align: right;\">\n",
       "      <th></th>\n",
       "      <th>age before</th>\n",
       "      <th>age after</th>\n",
       "      <th>age intervals</th>\n",
       "      <th>fare before</th>\n",
       "      <th>fare after</th>\n",
       "      <th>fare intervals</th>\n",
       "    </tr>\n",
       "  </thead>\n",
       "  <tbody>\n",
       "    <tr>\n",
       "      <th>761</th>\n",
       "      <td>41.0</td>\n",
       "      <td>10.0</td>\n",
       "      <td>(40.661, 44.43]</td>\n",
       "      <td>7.1250</td>\n",
       "      <td>1.0</td>\n",
       "      <td>(5.036, 18.008]</td>\n",
       "    </tr>\n",
       "    <tr>\n",
       "      <th>492</th>\n",
       "      <td>55.0</td>\n",
       "      <td>13.0</td>\n",
       "      <td>(52.521, 56.763]</td>\n",
       "      <td>30.5000</td>\n",
       "      <td>2.0</td>\n",
       "      <td>(18.008, 31.707]</td>\n",
       "    </tr>\n",
       "    <tr>\n",
       "      <th>255</th>\n",
       "      <td>29.0</td>\n",
       "      <td>7.0</td>\n",
       "      <td>(28.582, 32.634]</td>\n",
       "      <td>15.2458</td>\n",
       "      <td>1.0</td>\n",
       "      <td>(5.036, 18.008]</td>\n",
       "    </tr>\n",
       "    <tr>\n",
       "      <th>89</th>\n",
       "      <td>24.0</td>\n",
       "      <td>5.0</td>\n",
       "      <td>(20.589, 24.624]</td>\n",
       "      <td>8.0500</td>\n",
       "      <td>1.0</td>\n",
       "      <td>(5.036, 18.008]</td>\n",
       "    </tr>\n",
       "    <tr>\n",
       "      <th>6</th>\n",
       "      <td>54.0</td>\n",
       "      <td>13.0</td>\n",
       "      <td>(52.521, 56.763]</td>\n",
       "      <td>51.8625</td>\n",
       "      <td>5.0</td>\n",
       "      <td>(49.303, 54.107]</td>\n",
       "    </tr>\n",
       "    <tr>\n",
       "      <th>759</th>\n",
       "      <td>33.0</td>\n",
       "      <td>8.0</td>\n",
       "      <td>(32.634, 36.83]</td>\n",
       "      <td>86.5000</td>\n",
       "      <td>9.0</td>\n",
       "      <td>(82.555, 100.196]</td>\n",
       "    </tr>\n",
       "    <tr>\n",
       "      <th>341</th>\n",
       "      <td>24.0</td>\n",
       "      <td>5.0</td>\n",
       "      <td>(20.589, 24.624]</td>\n",
       "      <td>263.0000</td>\n",
       "      <td>18.0</td>\n",
       "      <td>(255.156, 387.56]</td>\n",
       "    </tr>\n",
       "    <tr>\n",
       "      <th>37</th>\n",
       "      <td>21.0</td>\n",
       "      <td>5.0</td>\n",
       "      <td>(20.589, 24.624]</td>\n",
       "      <td>8.0500</td>\n",
       "      <td>1.0</td>\n",
       "      <td>(5.036, 18.008]</td>\n",
       "    </tr>\n",
       "    <tr>\n",
       "      <th>487</th>\n",
       "      <td>58.0</td>\n",
       "      <td>14.0</td>\n",
       "      <td>(56.763, 60.409]</td>\n",
       "      <td>29.7000</td>\n",
       "      <td>2.0</td>\n",
       "      <td>(18.008, 31.707]</td>\n",
       "    </tr>\n",
       "    <tr>\n",
       "      <th>666</th>\n",
       "      <td>25.0</td>\n",
       "      <td>6.0</td>\n",
       "      <td>(24.624, 28.582]</td>\n",
       "      <td>13.0000</td>\n",
       "      <td>1.0</td>\n",
       "      <td>(5.036, 18.008]</td>\n",
       "    </tr>\n",
       "  </tbody>\n",
       "</table>\n",
       "</div>"
      ],
      "text/plain": [
       "     age before  age after     age intervals  fare before  fare after  \\\n",
       "761        41.0       10.0   (40.661, 44.43]       7.1250         1.0   \n",
       "492        55.0       13.0  (52.521, 56.763]      30.5000         2.0   \n",
       "255        29.0        7.0  (28.582, 32.634]      15.2458         1.0   \n",
       "89         24.0        5.0  (20.589, 24.624]       8.0500         1.0   \n",
       "6          54.0       13.0  (52.521, 56.763]      51.8625         5.0   \n",
       "759        33.0        8.0   (32.634, 36.83]      86.5000         9.0   \n",
       "341        24.0        5.0  (20.589, 24.624]     263.0000        18.0   \n",
       "37         21.0        5.0  (20.589, 24.624]       8.0500         1.0   \n",
       "487        58.0       14.0  (56.763, 60.409]      29.7000         2.0   \n",
       "666        25.0        6.0  (24.624, 28.582]      13.0000         1.0   \n",
       "\n",
       "        fare intervals  \n",
       "761    (5.036, 18.008]  \n",
       "492   (18.008, 31.707]  \n",
       "255    (5.036, 18.008]  \n",
       "89     (5.036, 18.008]  \n",
       "6     (49.303, 54.107]  \n",
       "759  (82.555, 100.196]  \n",
       "341  (255.156, 387.56]  \n",
       "37     (5.036, 18.008]  \n",
       "487   (18.008, 31.707]  \n",
       "666    (5.036, 18.008]  "
      ]
     },
     "execution_count": 143,
     "metadata": {},
     "output_type": "execute_result"
    }
   ],
   "source": [
    "transformation = pd.DataFrame({'age before': X_train.Age, \n",
    "                               'age after': X_train_trf[:,0],\n",
    "                               'age intervals': pd.cut(x=X_train['Age'], \n",
    "                                                       bins = trf.named_transformers_['age'].bin_edges_[0].tolist()),\n",
    "                               'fare before': X_train.Fare, \n",
    "                               'fare after': X_train_trf[:,1],\n",
    "                               'fare intervals':pd.cut(x=X_train['Fare'], \n",
    "                                                       bins = trf.named_transformers_['fare'].bin_edges_[0].tolist())\n",
    "                              })\n",
    "transformation.sample(10)"
   ]
  },
  {
   "cell_type": "markdown",
   "id": "47c936aa",
   "metadata": {},
   "source": [
    "### Continuing to next steps, fit and predict"
   ]
  },
  {
   "cell_type": "code",
   "execution_count": 144,
   "id": "c81c35f6",
   "metadata": {},
   "outputs": [
    {
     "name": "stdout",
     "output_type": "stream",
     "text": [
      "0.6573426573426573\n",
      "0.6330985915492957\n"
     ]
    }
   ],
   "source": [
    "# model object\n",
    "DT = DecisionTreeClassifier()\n",
    "\n",
    "# fit\n",
    "DT.fit(X_train_trf, y_train)\n",
    "\n",
    "# predict\n",
    "y_pred = DT.predict(X_test_trf)\n",
    "\n",
    "# accuracy\n",
    "print(accuracy_score(y_test, y_pred)) \n",
    "\n",
    "# cross validation\n",
    "print(np.mean(cross_val_score(DT, X, y, cv=10, scoring='accuracy')))"
   ]
  },
  {
   "cell_type": "markdown",
   "id": "534b500a",
   "metadata": {},
   "source": [
    "I have observed when I gave bins value as 10 then accuracy was around 60%, but once I creased bins=20 then the accuracy increased to 65%, <br>\n",
    "This is another good tip to keep changing values to check which gives close accuracy."
   ]
  },
  {
   "cell_type": "code",
   "execution_count": 155,
   "id": "0c896496",
   "metadata": {},
   "outputs": [
    {
     "data": {
      "image/png": "[encoded data removed]",
      "text/plain": [
       "<Figure size 1008x288 with 2 Axes>"
      ]
     },
     "metadata": {
      "needs_background": "light"
     },
     "output_type": "display_data"
    }
   ],
   "source": [
    "# plotting\n",
    "plt.figure(figsize=(14,4))\n",
    "\n",
    "plt.subplot(121)\n",
    "sns.distplot(X_train['Age'])\n",
    "plt.title(\"Before Binning\")\n",
    "\n",
    "plt.subplot(122)\n",
    "sns.distplot(X_train_trf[0])\n",
    "plt.title(\"After Binning\")\n",
    "\n",
    "plt.show()"
   ]
  },
  {
   "cell_type": "code",
   "execution_count": 156,
   "id": "798ff63b",
   "metadata": {},
   "outputs": [
    {
     "data": {
      "image/png": "[encoded data removed]",
      "text/plain": [
       "<Figure size 1008x288 with 2 Axes>"
      ]
     },
     "metadata": {
      "needs_background": "light"
     },
     "output_type": "display_data"
    }
   ],
   "source": [
    "# plotting\n",
    "plt.figure(figsize=(14,4))\n",
    "\n",
    "plt.subplot(121)\n",
    "sns.distplot(X_train['Fare'])\n",
    "plt.title(\"Before Binning\")\n",
    "\n",
    "plt.subplot(122)\n",
    "sns.distplot(X_train_trf[1])\n",
    "plt.title(\"After Binning\")\n",
    "\n",
    "plt.show()"
   ]
  },
  {
   "cell_type": "markdown",
   "id": "e8cac0ac",
   "metadata": {},
   "source": [
    "Now, lets try other strategies to, <br>\n",
    "Here, to try other strategies and check transformation, I have created a function, so that we can quickly get analysis rather than going back to the code and manually changing everything. <br>\n",
    "We just need to mention strategy (uniform, quantile, kmeans) and number of bins."
   ]
  },
  {
   "cell_type": "code",
   "execution_count": 216,
   "id": "a749e65a",
   "metadata": {},
   "outputs": [],
   "source": [
    "def binning(bins, strategy):\n",
    "    \n",
    "    # binning objects\n",
    "    kbin_age = KBinsDiscretizer(n_bins=bins, encode='ordinal', strategy=strategy)\n",
    "    kbin_fare = KBinsDiscretizer(n_bins=bins, encode='ordinal', strategy=strategy)\n",
    "\n",
    "    # ColumnTransformer objects\n",
    "    trf = ColumnTransformer([('age', kbin_age, [0]),\n",
    "                              ('fare', kbin_fare, [1])])\n",
    "\n",
    "    # transformation\n",
    "    X_trf = trf.fit_transform(X)\n",
    "\n",
    "    # model object\n",
    "    DT = DecisionTreeClassifier()\n",
    "\n",
    "    # cross validation\n",
    "    print(np.mean(cross_val_score(DT, X, y, cv=10, scoring='accuracy')))\n",
    "\n",
    "    # plotting\n",
    "    plt.figure(figsize=(14,8))\n",
    "\n",
    "    plt.subplot(2,2,1)\n",
    "    sns.distplot(X['Age'])\n",
    "    plt.title(\"Age Before Binning\")\n",
    "\n",
    "    plt.subplot(2,2,2,)\n",
    "    sns.distplot(X_trf[:,0])\n",
    "    plt.title(\"Age After Binning\")\n",
    "\n",
    "    plt.subplot(2,2,3)\n",
    "    sns.distplot(X['Fare'])\n",
    "    plt.title(\"Fare Before Binning\")\n",
    "\n",
    "    plt.subplot(2,2,4)\n",
    "    sns.distplot(X_trf[:,1])\n",
    "    plt.title(\"Fare After Binning\")\n",
    "    \n",
    "    plt.subplots_adjust(left=0.1,\n",
    "                    bottom=0.1, \n",
    "                    right=0.9, \n",
    "                    top=0.9, \n",
    "                    wspace=0.4, \n",
    "                    hspace=0.4)\n",
    "    \n",
    "    plt.show()"
   ]
  },
  {
   "cell_type": "code",
   "execution_count": 217,
   "id": "96a082d6",
   "metadata": {},
   "outputs": [
    {
     "name": "stdout",
     "output_type": "stream",
     "text": [
      "0.6317097026604068\n"
     ]
    },
    {
     "data": {
      "image/png": "[encoded data removed]",
      "text/plain": [
       "<Figure size 1008x576 with 4 Axes>"
      ]
     },
     "metadata": {
      "needs_background": "light"
     },
     "output_type": "display_data"
    }
   ],
   "source": [
    "binning(10, 'quantile')"
   ]
  },
  {
   "cell_type": "code",
   "execution_count": 218,
   "id": "f4179a74",
   "metadata": {},
   "outputs": [
    {
     "name": "stdout",
     "output_type": "stream",
     "text": [
      "0.6303012519561815\n"
     ]
    },
    {
     "data": {
      "image/png": "[encoded data removed]",
      "text/plain": [
       "<Figure size 1008x576 with 4 Axes>"
      ]
     },
     "metadata": {
      "needs_background": "light"
     },
     "output_type": "display_data"
    }
   ],
   "source": [
    "binning(10, 'uniform')"
   ]
  },
  {
   "cell_type": "markdown",
   "id": "3bce150d",
   "metadata": {},
   "source": [
    "## Binarization"
   ]
  },
  {
   "cell_type": "code",
   "execution_count": 256,
   "id": "5c5a68b3",
   "metadata": {},
   "outputs": [],
   "source": [
    "df = pd.read_csv('./Datasets/train.csv', usecols=['Age', 'Fare', 'SibSp', 'Parch', 'Survived'])"
   ]
  },
  {
   "cell_type": "code",
   "execution_count": 257,
   "id": "455571ff",
   "metadata": {},
   "outputs": [],
   "source": [
    "df.dropna(inplace=True)"
   ]
  },
  {
   "cell_type": "code",
   "execution_count": 258,
   "id": "7a126888",
   "metadata": {},
   "outputs": [
    {
     "data": {
      "text/html": [
       "<div>\n",
       "<style scoped>\n",
       "    .dataframe tbody tr th:only-of-type {\n",
       "        vertical-align: middle;\n",
       "    }\n",
       "\n",
       "    .dataframe tbody tr th {\n",
       "        vertical-align: top;\n",
       "    }\n",
       "\n",
       "    .dataframe thead th {\n",
       "        text-align: right;\n",
       "    }\n",
       "</style>\n",
       "<table border=\"1\" class=\"dataframe\">\n",
       "  <thead>\n",
       "    <tr style=\"text-align: right;\">\n",
       "      <th></th>\n",
       "      <th>Survived</th>\n",
       "      <th>Age</th>\n",
       "      <th>SibSp</th>\n",
       "      <th>Parch</th>\n",
       "      <th>Fare</th>\n",
       "    </tr>\n",
       "  </thead>\n",
       "  <tbody>\n",
       "    <tr>\n",
       "      <th>0</th>\n",
       "      <td>0</td>\n",
       "      <td>22.0</td>\n",
       "      <td>1</td>\n",
       "      <td>0</td>\n",
       "      <td>7.25</td>\n",
       "    </tr>\n",
       "  </tbody>\n",
       "</table>\n",
       "</div>"
      ],
      "text/plain": [
       "   Survived   Age  SibSp  Parch  Fare\n",
       "0         0  22.0      1      0  7.25"
      ]
     },
     "execution_count": 258,
     "metadata": {},
     "output_type": "execute_result"
    }
   ],
   "source": [
    "df.head(1)"
   ]
  },
  {
   "cell_type": "code",
   "execution_count": 259,
   "id": "20e82e22",
   "metadata": {},
   "outputs": [
    {
     "data": {
      "text/html": [
       "<div>\n",
       "<style scoped>\n",
       "    .dataframe tbody tr th:only-of-type {\n",
       "        vertical-align: middle;\n",
       "    }\n",
       "\n",
       "    .dataframe tbody tr th {\n",
       "        vertical-align: top;\n",
       "    }\n",
       "\n",
       "    .dataframe thead th {\n",
       "        text-align: right;\n",
       "    }\n",
       "</style>\n",
       "<table border=\"1\" class=\"dataframe\">\n",
       "  <thead>\n",
       "    <tr style=\"text-align: right;\">\n",
       "      <th></th>\n",
       "      <th>Survived</th>\n",
       "      <th>Age</th>\n",
       "      <th>Fare</th>\n",
       "      <th>Family</th>\n",
       "    </tr>\n",
       "  </thead>\n",
       "  <tbody>\n",
       "    <tr>\n",
       "      <th>0</th>\n",
       "      <td>0</td>\n",
       "      <td>22.0</td>\n",
       "      <td>7.2500</td>\n",
       "      <td>1</td>\n",
       "    </tr>\n",
       "    <tr>\n",
       "      <th>1</th>\n",
       "      <td>1</td>\n",
       "      <td>38.0</td>\n",
       "      <td>71.2833</td>\n",
       "      <td>1</td>\n",
       "    </tr>\n",
       "    <tr>\n",
       "      <th>2</th>\n",
       "      <td>1</td>\n",
       "      <td>26.0</td>\n",
       "      <td>7.9250</td>\n",
       "      <td>0</td>\n",
       "    </tr>\n",
       "    <tr>\n",
       "      <th>3</th>\n",
       "      <td>1</td>\n",
       "      <td>35.0</td>\n",
       "      <td>53.1000</td>\n",
       "      <td>1</td>\n",
       "    </tr>\n",
       "    <tr>\n",
       "      <th>4</th>\n",
       "      <td>0</td>\n",
       "      <td>35.0</td>\n",
       "      <td>8.0500</td>\n",
       "      <td>0</td>\n",
       "    </tr>\n",
       "    <tr>\n",
       "      <th>6</th>\n",
       "      <td>0</td>\n",
       "      <td>54.0</td>\n",
       "      <td>51.8625</td>\n",
       "      <td>0</td>\n",
       "    </tr>\n",
       "    <tr>\n",
       "      <th>7</th>\n",
       "      <td>0</td>\n",
       "      <td>2.0</td>\n",
       "      <td>21.0750</td>\n",
       "      <td>4</td>\n",
       "    </tr>\n",
       "    <tr>\n",
       "      <th>8</th>\n",
       "      <td>1</td>\n",
       "      <td>27.0</td>\n",
       "      <td>11.1333</td>\n",
       "      <td>2</td>\n",
       "    </tr>\n",
       "    <tr>\n",
       "      <th>9</th>\n",
       "      <td>1</td>\n",
       "      <td>14.0</td>\n",
       "      <td>30.0708</td>\n",
       "      <td>1</td>\n",
       "    </tr>\n",
       "    <tr>\n",
       "      <th>10</th>\n",
       "      <td>1</td>\n",
       "      <td>4.0</td>\n",
       "      <td>16.7000</td>\n",
       "      <td>2</td>\n",
       "    </tr>\n",
       "    <tr>\n",
       "      <th>11</th>\n",
       "      <td>1</td>\n",
       "      <td>58.0</td>\n",
       "      <td>26.5500</td>\n",
       "      <td>0</td>\n",
       "    </tr>\n",
       "    <tr>\n",
       "      <th>12</th>\n",
       "      <td>0</td>\n",
       "      <td>20.0</td>\n",
       "      <td>8.0500</td>\n",
       "      <td>0</td>\n",
       "    </tr>\n",
       "    <tr>\n",
       "      <th>13</th>\n",
       "      <td>0</td>\n",
       "      <td>39.0</td>\n",
       "      <td>31.2750</td>\n",
       "      <td>6</td>\n",
       "    </tr>\n",
       "    <tr>\n",
       "      <th>14</th>\n",
       "      <td>0</td>\n",
       "      <td>14.0</td>\n",
       "      <td>7.8542</td>\n",
       "      <td>0</td>\n",
       "    </tr>\n",
       "    <tr>\n",
       "      <th>15</th>\n",
       "      <td>1</td>\n",
       "      <td>55.0</td>\n",
       "      <td>16.0000</td>\n",
       "      <td>0</td>\n",
       "    </tr>\n",
       "    <tr>\n",
       "      <th>16</th>\n",
       "      <td>0</td>\n",
       "      <td>2.0</td>\n",
       "      <td>29.1250</td>\n",
       "      <td>5</td>\n",
       "    </tr>\n",
       "    <tr>\n",
       "      <th>18</th>\n",
       "      <td>0</td>\n",
       "      <td>31.0</td>\n",
       "      <td>18.0000</td>\n",
       "      <td>1</td>\n",
       "    </tr>\n",
       "    <tr>\n",
       "      <th>20</th>\n",
       "      <td>0</td>\n",
       "      <td>35.0</td>\n",
       "      <td>26.0000</td>\n",
       "      <td>0</td>\n",
       "    </tr>\n",
       "    <tr>\n",
       "      <th>21</th>\n",
       "      <td>1</td>\n",
       "      <td>34.0</td>\n",
       "      <td>13.0000</td>\n",
       "      <td>0</td>\n",
       "    </tr>\n",
       "    <tr>\n",
       "      <th>22</th>\n",
       "      <td>1</td>\n",
       "      <td>15.0</td>\n",
       "      <td>8.0292</td>\n",
       "      <td>0</td>\n",
       "    </tr>\n",
       "  </tbody>\n",
       "</table>\n",
       "</div>"
      ],
      "text/plain": [
       "    Survived   Age     Fare  Family\n",
       "0          0  22.0   7.2500       1\n",
       "1          1  38.0  71.2833       1\n",
       "2          1  26.0   7.9250       0\n",
       "3          1  35.0  53.1000       1\n",
       "4          0  35.0   8.0500       0\n",
       "6          0  54.0  51.8625       0\n",
       "7          0   2.0  21.0750       4\n",
       "8          1  27.0  11.1333       2\n",
       "9          1  14.0  30.0708       1\n",
       "10         1   4.0  16.7000       2\n",
       "11         1  58.0  26.5500       0\n",
       "12         0  20.0   8.0500       0\n",
       "13         0  39.0  31.2750       6\n",
       "14         0  14.0   7.8542       0\n",
       "15         1  55.0  16.0000       0\n",
       "16         0   2.0  29.1250       5\n",
       "18         0  31.0  18.0000       1\n",
       "20         0  35.0  26.0000       0\n",
       "21         1  34.0  13.0000       0\n",
       "22         1  15.0   8.0292       0"
      ]
     },
     "execution_count": 259,
     "metadata": {},
     "output_type": "execute_result"
    }
   ],
   "source": [
    "df['Family'] = df['SibSp'] + df['Parch']\n",
    "df.drop(columns=['SibSp', 'Parch'], inplace=True)\n",
    "df.head(20)"
   ]
  },
  {
   "cell_type": "code",
   "execution_count": 260,
   "id": "5a23d56a",
   "metadata": {},
   "outputs": [],
   "source": [
    "X=df.drop(columns=['Survived'])\n",
    "y=df['Survived']"
   ]
  },
  {
   "cell_type": "code",
   "execution_count": 261,
   "id": "7a77359d",
   "metadata": {},
   "outputs": [],
   "source": [
    "X_train, X_test, y_train, y_test = train_test_split(X, y, test_size=0.2, random_state=42)"
   ]
  },
  {
   "cell_type": "markdown",
   "id": "7357cd91",
   "metadata": {},
   "source": [
    "### Without binarization"
   ]
  },
  {
   "cell_type": "code",
   "execution_count": 262,
   "id": "09916be2",
   "metadata": {},
   "outputs": [
    {
     "name": "stdout",
     "output_type": "stream",
     "text": [
      "0.6223776223776224\n",
      "0.647085289514867\n"
     ]
    }
   ],
   "source": [
    "DT = DecisionTreeClassifier()\n",
    "\n",
    "DT.fit(X_train, y_train)\n",
    "\n",
    "y_pred = DT.predict(X_test)\n",
    "\n",
    "print(accuracy_score(y_test, y_pred))\n",
    "\n",
    "print(np.mean(cross_val_score(DT, X, y, cv=10, scoring='accuracy')))\n"
   ]
  },
  {
   "cell_type": "code",
   "execution_count": 266,
   "id": "edd704dd",
   "metadata": {},
   "outputs": [],
   "source": [
    "# binarization object\n",
    "Bin = Binarizer(copy = False) # copy=False means I need changes in existing column rather yhan creating copy of column\n",
    "\n",
    "# transformer object\n",
    "trf = ColumnTransformer([('bin', Bin, ['Family'])],\n",
    "                       remainder = 'passthrough')\n",
    "\n",
    "# transformation\n",
    "X_train_trf = trf.fit_transform(X_train)\n",
    "X_test_trf = trf.transform(X_test)"
   ]
  },
  {
   "cell_type": "code",
   "execution_count": 267,
   "id": "4ff32eb7",
   "metadata": {},
   "outputs": [
    {
     "data": {
      "text/html": [
       "<div>\n",
       "<style scoped>\n",
       "    .dataframe tbody tr th:only-of-type {\n",
       "        vertical-align: middle;\n",
       "    }\n",
       "\n",
       "    .dataframe tbody tr th {\n",
       "        vertical-align: top;\n",
       "    }\n",
       "\n",
       "    .dataframe thead th {\n",
       "        text-align: right;\n",
       "    }\n",
       "</style>\n",
       "<table border=\"1\" class=\"dataframe\">\n",
       "  <thead>\n",
       "    <tr style=\"text-align: right;\">\n",
       "      <th></th>\n",
       "      <th>Family</th>\n",
       "      <th>Age</th>\n",
       "      <th>Fare</th>\n",
       "    </tr>\n",
       "  </thead>\n",
       "  <tbody>\n",
       "    <tr>\n",
       "      <th>0</th>\n",
       "      <td>1.0</td>\n",
       "      <td>31.0</td>\n",
       "      <td>20.5250</td>\n",
       "    </tr>\n",
       "    <tr>\n",
       "      <th>1</th>\n",
       "      <td>1.0</td>\n",
       "      <td>26.0</td>\n",
       "      <td>14.4542</td>\n",
       "    </tr>\n",
       "    <tr>\n",
       "      <th>2</th>\n",
       "      <td>1.0</td>\n",
       "      <td>30.0</td>\n",
       "      <td>16.1000</td>\n",
       "    </tr>\n",
       "    <tr>\n",
       "      <th>3</th>\n",
       "      <td>0.0</td>\n",
       "      <td>33.0</td>\n",
       "      <td>7.7750</td>\n",
       "    </tr>\n",
       "    <tr>\n",
       "      <th>4</th>\n",
       "      <td>0.0</td>\n",
       "      <td>25.0</td>\n",
       "      <td>13.0000</td>\n",
       "    </tr>\n",
       "    <tr>\n",
       "      <th>...</th>\n",
       "      <td>...</td>\n",
       "      <td>...</td>\n",
       "      <td>...</td>\n",
       "    </tr>\n",
       "    <tr>\n",
       "      <th>566</th>\n",
       "      <td>1.0</td>\n",
       "      <td>46.0</td>\n",
       "      <td>61.1750</td>\n",
       "    </tr>\n",
       "    <tr>\n",
       "      <th>567</th>\n",
       "      <td>0.0</td>\n",
       "      <td>25.0</td>\n",
       "      <td>13.0000</td>\n",
       "    </tr>\n",
       "    <tr>\n",
       "      <th>568</th>\n",
       "      <td>0.0</td>\n",
       "      <td>41.0</td>\n",
       "      <td>134.5000</td>\n",
       "    </tr>\n",
       "    <tr>\n",
       "      <th>569</th>\n",
       "      <td>1.0</td>\n",
       "      <td>33.0</td>\n",
       "      <td>20.5250</td>\n",
       "    </tr>\n",
       "    <tr>\n",
       "      <th>570</th>\n",
       "      <td>0.0</td>\n",
       "      <td>33.0</td>\n",
       "      <td>7.8958</td>\n",
       "    </tr>\n",
       "  </tbody>\n",
       "</table>\n",
       "<p>571 rows × 3 columns</p>\n",
       "</div>"
      ],
      "text/plain": [
       "     Family   Age      Fare\n",
       "0       1.0  31.0   20.5250\n",
       "1       1.0  26.0   14.4542\n",
       "2       1.0  30.0   16.1000\n",
       "3       0.0  33.0    7.7750\n",
       "4       0.0  25.0   13.0000\n",
       "..      ...   ...       ...\n",
       "566     1.0  46.0   61.1750\n",
       "567     0.0  25.0   13.0000\n",
       "568     0.0  41.0  134.5000\n",
       "569     1.0  33.0   20.5250\n",
       "570     0.0  33.0    7.8958\n",
       "\n",
       "[571 rows x 3 columns]"
      ]
     },
     "execution_count": 267,
     "metadata": {},
     "output_type": "execute_result"
    }
   ],
   "source": [
    "# checking how 'Family' column data is binarized now\n",
    "pd.DataFrame(X_train_trf, columns=['Family', 'Age', 'Fare'])"
   ]
  },
  {
   "cell_type": "code",
   "execution_count": 277,
   "id": "07fb90e3",
   "metadata": {},
   "outputs": [
    {
     "name": "stdout",
     "output_type": "stream",
     "text": [
      "0.6223776223776224\n",
      "0.6219874804381847\n"
     ]
    }
   ],
   "source": [
    "# model object\n",
    "DT = DecisionTreeClassifier()\n",
    "\n",
    "# fit\n",
    "DT.fit(X_train_trf, y_train)\n",
    "\n",
    "# predict\n",
    "y_pred2 = DT.predict(X_test_trf)\n",
    "\n",
    "# accuracy\n",
    "print(accuracy_score(y_test, y_pred2))\n",
    "\n",
    "# cross validation\n",
    "X_trf = trf.fit_transform(X)\n",
    "print(np.mean(cross_val_score(DT, X_trf, y, cv=10, scoring='accuracy')))"
   ]
  },
  {
   "cell_type": "markdown",
   "id": "8c5236b5",
   "metadata": {},
   "source": [
    "We can observe there is slight improvement in the accuracy here. But we can keep trying different ways to get more acurate result."
   ]
  },
  {
   "cell_type": "markdown",
   "id": "bbb26829",
   "metadata": {},
   "source": [
    "## Summary\n",
    "\n",
    "In this we have discussed how to encode numerical data using different encoding techniques from scikit learn library. What we have done is continuous to categorical transformation of the data."
   ]
  }
 ],
 "metadata": {
  "kernelspec": {
   "display_name": "Python 3 (ipykernel)",
   "language": "python",
   "name": "python3"
  },
  "language_info": {
   "codemirror_mode": {
    "name": "ipython",
    "version": 3
   },
   "file_extension": ".py",
   "mimetype": "text/x-python",
   "name": "python",
   "nbconvert_exporter": "python",
   "pygments_lexer": "ipython3",
   "version": "3.9.12"
  }
 },
 "nbformat": 4,
 "nbformat_minor": 5
}
